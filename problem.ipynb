{
 "cells": [
  {
   "cell_type": "code",
   "execution_count": 4,
   "metadata": {},
   "outputs": [
    {
     "data": {
      "text/plain": [
       "0.80078125"
      ]
     },
     "execution_count": 4,
     "metadata": {},
     "output_type": "execute_result"
    }
   ],
   "source": [
    "0.5 + 0.5 * 0.5 + 0.5 * 0.5 * 0.5 * 0.5 * ( 0.5 + 0.5 * 0.5 + 0.5 * 0.5 * 0.5 * 0.5 )"
   ]
  },
  {
   "cell_type": "markdown",
   "metadata": {},
   "source": [
    "rec = x / (x + y) + y / (x + y) * x / (x + y) + (x² y²) / (x + y)⁴ * rec"
   ]
  },
  {
   "cell_type": "code",
   "execution_count": 5,
   "metadata": {},
   "outputs": [],
   "source": [
    "def generator_xy(x, y, size):\n",
    "    p = 0\n",
    "    px = x / (x + y)\n",
    "    py = y / (x + y)\n",
    "    for i in range(size):\n",
    "        p = px + py * px + \\\n",
    "            py * py * px * px * p\n",
    "        yield p"
   ]
  },
  {
   "cell_type": "code",
   "execution_count": 8,
   "metadata": {},
   "outputs": [],
   "source": [
    "a = generator_xy(1, 1, 100)"
   ]
  },
  {
   "cell_type": "code",
   "execution_count": 9,
   "metadata": {},
   "outputs": [
    {
     "name": "stdout",
     "output_type": "stream",
     "text": [
      "0.75\n",
      "0.7999999999999545\n",
      "0.8\n",
      "0.8\n",
      "0.8\n",
      "0.8\n",
      "0.8\n",
      "0.8\n",
      "0.8\n",
      "0.8\n"
     ]
    }
   ],
   "source": [
    "for i, item in enumerate(a):\n",
    "    if i % 10 == 0:\n",
    "        print(item)"
   ]
  },
  {
   "cell_type": "markdown",
   "metadata": {},
   "source": [
    "rec = 1/2 * (1/2 + 1/2 * )"
   ]
  },
  {
   "cell_type": "code",
   "execution_count": 20,
   "metadata": {},
   "outputs": [],
   "source": [
    "def generator_equal3(size):\n",
    "    p = 0\n",
    "    third = 1/2\n",
    "    for i in range(size):\n",
    "        p = 2* third ** 2 + 2* third ** 3 + \\\n",
    "            (third ** 2) * (third + third ** 2) * third ** 2 * p\n",
    "        yield p"
   ]
  },
  {
   "cell_type": "code",
   "execution_count": 21,
   "metadata": {},
   "outputs": [
    {
     "name": "stdout",
     "output_type": "stream",
     "text": [
      "0.75\n",
      "0.7868852459016374\n",
      "0.7868852459016393\n",
      "0.7868852459016393\n",
      "0.7868852459016393\n"
     ]
    }
   ],
   "source": [
    "b = generator_equal3(50)\n",
    "for i, item in enumerate(b):\n",
    "    if i % 10 == 0:\n",
    "        print(item)"
   ]
  }
 ],
 "metadata": {
  "interpreter": {
   "hash": "43bbd47ee7501cbb86f104063fbd5f389f20439b31e9c715fc0a2d7297321505"
  },
  "kernelspec": {
   "display_name": "Python 3.8.10 64-bit ('env': venv)",
   "language": "python",
   "name": "python3"
  },
  "language_info": {
   "codemirror_mode": {
    "name": "ipython",
    "version": 3
   },
   "file_extension": ".py",
   "mimetype": "text/x-python",
   "name": "python",
   "nbconvert_exporter": "python",
   "pygments_lexer": "ipython3",
   "version": "3.8.10"
  },
  "orig_nbformat": 4
 },
 "nbformat": 4,
 "nbformat_minor": 2
}
