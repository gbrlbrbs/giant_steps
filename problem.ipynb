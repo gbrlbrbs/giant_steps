{
 "cells": [
  {
   "cell_type": "markdown",
   "metadata": {},
   "source": [
    "1. Recursão:\n",
    "\n",
    "p = x / (x + y) + y / (x + y) * x / (x + y) + (x² y²) / (x + y)⁴ * p"
   ]
  },
  {
   "cell_type": "code",
   "execution_count": 2,
   "metadata": {},
   "outputs": [],
   "source": [
    "def generator_xy(x, y, size):\n",
    "    p = 0\n",
    "    px = x / (x + y)\n",
    "    py = y / (x + y)\n",
    "    for i in range(size):\n",
    "        p = px + py * px + \\\n",
    "            py * py * px * px * p\n",
    "        yield p"
   ]
  },
  {
   "cell_type": "code",
   "execution_count": 8,
   "metadata": {},
   "outputs": [],
   "source": [
    "a = generator_xy(1, 1, 30)"
   ]
  },
  {
   "cell_type": "code",
   "execution_count": 9,
   "metadata": {},
   "outputs": [
    {
     "name": "stdout",
     "output_type": "stream",
     "text": [
      "0.75\n",
      "0.7999999999999545\n",
      "0.8\n"
     ]
    }
   ],
   "source": [
    "for i, item in enumerate(a):\n",
    "    if i % 10 == 0:\n",
    "        print(item)"
   ]
  }
 ],
 "metadata": {
  "interpreter": {
   "hash": "43bbd47ee7501cbb86f104063fbd5f389f20439b31e9c715fc0a2d7297321505"
  },
  "kernelspec": {
   "display_name": "Python 3.8.10 64-bit ('env': venv)",
   "language": "python",
   "name": "python3"
  },
  "language_info": {
   "codemirror_mode": {
    "name": "ipython",
    "version": 3
   },
   "file_extension": ".py",
   "mimetype": "text/x-python",
   "name": "python",
   "nbconvert_exporter": "python",
   "pygments_lexer": "ipython3",
   "version": "3.8.10"
  },
  "orig_nbformat": 4
 },
 "nbformat": 4,
 "nbformat_minor": 2
}
